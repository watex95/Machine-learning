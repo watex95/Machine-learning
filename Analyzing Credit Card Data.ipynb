{
 "cells": [
  {
   "cell_type": "code",
   "execution_count": 2,
   "metadata": {},
   "outputs": [],
   "source": [
    "# All Required Libraries\n",
    "import numpy as np\n",
    "import pandas as pd\n",
    "import matplotlib.pyplot as plt\n",
    "import seaborn as sns\n",
    "\n",
    "# Matplotlib Config Settings\n",
    "\n",
    "# Pandas Display Options\n",
    "pd.set_option(\"max_colwidth\", 100)\n",
    "pd.set_option(\"display.max_rows\", 1000)\n",
    "pd.set_option(\"display.max_columns\", 9001)\n",
    "pd.set_option('display.float_format', lambda x: '{:,.2f}'.format(x))\n",
    "\n",
    "# Seaborn Settings\n",
    "sns.set(rc={\"figure.figsize\": (20, 12)})\n",
    "sns.set_context(\"notebook\", font_scale=1.1)"
   ]
  },
  {
   "cell_type": "code",
   "execution_count": 4,
   "metadata": {},
   "outputs": [
    {
     "name": "stdout",
     "output_type": "stream",
     "text": [
      "Analyzing Credit Card Data.ipynb\n",
      "credit_card_data.csv\n",
      "ecommerce_data.csv\n",
      "README.md\n"
     ]
    }
   ],
   "source": [
    "!ls"
   ]
  },
  {
   "cell_type": "code",
   "execution_count": 7,
   "metadata": {},
   "outputs": [
    {
     "data": {
      "text/html": [
       "<div>\n",
       "<style scoped>\n",
       "    .dataframe tbody tr th:only-of-type {\n",
       "        vertical-align: middle;\n",
       "    }\n",
       "\n",
       "    .dataframe tbody tr th {\n",
       "        vertical-align: top;\n",
       "    }\n",
       "\n",
       "    .dataframe thead th {\n",
       "        text-align: right;\n",
       "    }\n",
       "</style>\n",
       "<table border=\"1\" class=\"dataframe\">\n",
       "  <thead>\n",
       "    <tr style=\"text-align: right;\">\n",
       "      <th></th>\n",
       "      <th>CUST_ID</th>\n",
       "      <th>BALANCE</th>\n",
       "      <th>BALANCE_FREQUENCY</th>\n",
       "      <th>PURCHASES</th>\n",
       "      <th>ONEOFF_PURCHASES</th>\n",
       "      <th>INSTALLMENTS_PURCHASES</th>\n",
       "      <th>CASH_ADVANCE</th>\n",
       "      <th>PURCHASES_FREQUENCY</th>\n",
       "      <th>ONEOFF_PURCHASES_FREQUENCY</th>\n",
       "      <th>PURCHASES_INSTALLMENTS_FREQUENCY</th>\n",
       "      <th>CASH_ADVANCE_FREQUENCY</th>\n",
       "      <th>CASH_ADVANCE_TRX</th>\n",
       "      <th>PURCHASES_TRX</th>\n",
       "      <th>CREDIT_LIMIT</th>\n",
       "      <th>PAYMENTS</th>\n",
       "      <th>MINIMUM_PAYMENTS</th>\n",
       "      <th>PRC_FULL_PAYMENT</th>\n",
       "      <th>TENURE</th>\n",
       "    </tr>\n",
       "  </thead>\n",
       "  <tbody>\n",
       "    <tr>\n",
       "      <th>0</th>\n",
       "      <td>C10001</td>\n",
       "      <td>40.90</td>\n",
       "      <td>0.82</td>\n",
       "      <td>95.40</td>\n",
       "      <td>0.00</td>\n",
       "      <td>95.40</td>\n",
       "      <td>0.00</td>\n",
       "      <td>0.17</td>\n",
       "      <td>0.00</td>\n",
       "      <td>0.08</td>\n",
       "      <td>0.00</td>\n",
       "      <td>0</td>\n",
       "      <td>2</td>\n",
       "      <td>1,000.00</td>\n",
       "      <td>201.80</td>\n",
       "      <td>139.51</td>\n",
       "      <td>0.00</td>\n",
       "      <td>12</td>\n",
       "    </tr>\n",
       "    <tr>\n",
       "      <th>1</th>\n",
       "      <td>C10002</td>\n",
       "      <td>3,202.47</td>\n",
       "      <td>0.91</td>\n",
       "      <td>0.00</td>\n",
       "      <td>0.00</td>\n",
       "      <td>0.00</td>\n",
       "      <td>6,442.95</td>\n",
       "      <td>0.00</td>\n",
       "      <td>0.00</td>\n",
       "      <td>0.00</td>\n",
       "      <td>0.25</td>\n",
       "      <td>4</td>\n",
       "      <td>0</td>\n",
       "      <td>7,000.00</td>\n",
       "      <td>4,103.03</td>\n",
       "      <td>1,072.34</td>\n",
       "      <td>0.22</td>\n",
       "      <td>12</td>\n",
       "    </tr>\n",
       "    <tr>\n",
       "      <th>2</th>\n",
       "      <td>C10003</td>\n",
       "      <td>2,495.15</td>\n",
       "      <td>1.00</td>\n",
       "      <td>773.17</td>\n",
       "      <td>773.17</td>\n",
       "      <td>0.00</td>\n",
       "      <td>0.00</td>\n",
       "      <td>1.00</td>\n",
       "      <td>1.00</td>\n",
       "      <td>0.00</td>\n",
       "      <td>0.00</td>\n",
       "      <td>0</td>\n",
       "      <td>12</td>\n",
       "      <td>7,500.00</td>\n",
       "      <td>622.07</td>\n",
       "      <td>627.28</td>\n",
       "      <td>0.00</td>\n",
       "      <td>12</td>\n",
       "    </tr>\n",
       "    <tr>\n",
       "      <th>3</th>\n",
       "      <td>C10004</td>\n",
       "      <td>1,666.67</td>\n",
       "      <td>0.64</td>\n",
       "      <td>1,499.00</td>\n",
       "      <td>1,499.00</td>\n",
       "      <td>0.00</td>\n",
       "      <td>205.79</td>\n",
       "      <td>0.08</td>\n",
       "      <td>0.08</td>\n",
       "      <td>0.00</td>\n",
       "      <td>0.08</td>\n",
       "      <td>1</td>\n",
       "      <td>1</td>\n",
       "      <td>7,500.00</td>\n",
       "      <td>0.00</td>\n",
       "      <td>nan</td>\n",
       "      <td>0.00</td>\n",
       "      <td>12</td>\n",
       "    </tr>\n",
       "    <tr>\n",
       "      <th>4</th>\n",
       "      <td>C10005</td>\n",
       "      <td>817.71</td>\n",
       "      <td>1.00</td>\n",
       "      <td>16.00</td>\n",
       "      <td>16.00</td>\n",
       "      <td>0.00</td>\n",
       "      <td>0.00</td>\n",
       "      <td>0.08</td>\n",
       "      <td>0.08</td>\n",
       "      <td>0.00</td>\n",
       "      <td>0.00</td>\n",
       "      <td>0</td>\n",
       "      <td>1</td>\n",
       "      <td>1,200.00</td>\n",
       "      <td>678.33</td>\n",
       "      <td>244.79</td>\n",
       "      <td>0.00</td>\n",
       "      <td>12</td>\n",
       "    </tr>\n",
       "  </tbody>\n",
       "</table>\n",
       "</div>"
      ],
      "text/plain": [
       "  CUST_ID  BALANCE  BALANCE_FREQUENCY  PURCHASES  ONEOFF_PURCHASES  \\\n",
       "0  C10001    40.90               0.82      95.40              0.00   \n",
       "1  C10002 3,202.47               0.91       0.00              0.00   \n",
       "2  C10003 2,495.15               1.00     773.17            773.17   \n",
       "3  C10004 1,666.67               0.64   1,499.00          1,499.00   \n",
       "4  C10005   817.71               1.00      16.00             16.00   \n",
       "\n",
       "   INSTALLMENTS_PURCHASES  CASH_ADVANCE  PURCHASES_FREQUENCY  \\\n",
       "0                   95.40          0.00                 0.17   \n",
       "1                    0.00      6,442.95                 0.00   \n",
       "2                    0.00          0.00                 1.00   \n",
       "3                    0.00        205.79                 0.08   \n",
       "4                    0.00          0.00                 0.08   \n",
       "\n",
       "   ONEOFF_PURCHASES_FREQUENCY  PURCHASES_INSTALLMENTS_FREQUENCY  \\\n",
       "0                        0.00                              0.08   \n",
       "1                        0.00                              0.00   \n",
       "2                        1.00                              0.00   \n",
       "3                        0.08                              0.00   \n",
       "4                        0.08                              0.00   \n",
       "\n",
       "   CASH_ADVANCE_FREQUENCY  CASH_ADVANCE_TRX  PURCHASES_TRX  CREDIT_LIMIT  \\\n",
       "0                    0.00                 0              2      1,000.00   \n",
       "1                    0.25                 4              0      7,000.00   \n",
       "2                    0.00                 0             12      7,500.00   \n",
       "3                    0.08                 1              1      7,500.00   \n",
       "4                    0.00                 0              1      1,200.00   \n",
       "\n",
       "   PAYMENTS  MINIMUM_PAYMENTS  PRC_FULL_PAYMENT  TENURE  \n",
       "0    201.80            139.51              0.00      12  \n",
       "1  4,103.03          1,072.34              0.22      12  \n",
       "2    622.07            627.28              0.00      12  \n",
       "3      0.00               nan              0.00      12  \n",
       "4    678.33            244.79              0.00      12  "
      ]
     },
     "execution_count": 7,
     "metadata": {},
     "output_type": "execute_result"
    }
   ],
   "source": [
    "# Read Data into DataFrame\n",
    "credit_df = pd.read_csv(\"credit_card_data.csv\", header=0)\n",
    "credit_df.head()"
   ]
  },
  {
   "cell_type": "code",
   "execution_count": 9,
   "metadata": {},
   "outputs": [
    {
     "data": {
      "text/plain": [
       "Index(['CUST_ID', 'BALANCE', 'BALANCE_FREQUENCY', 'PURCHASES',\n",
       "       'ONEOFF_PURCHASES', 'INSTALLMENTS_PURCHASES', 'CASH_ADVANCE',\n",
       "       'PURCHASES_FREQUENCY', 'ONEOFF_PURCHASES_FREQUENCY',\n",
       "       'PURCHASES_INSTALLMENTS_FREQUENCY', 'CASH_ADVANCE_FREQUENCY',\n",
       "       'CASH_ADVANCE_TRX', 'PURCHASES_TRX', 'CREDIT_LIMIT', 'PAYMENTS',\n",
       "       'MINIMUM_PAYMENTS', 'PRC_FULL_PAYMENT', 'TENURE'],\n",
       "      dtype='object')"
      ]
     },
     "execution_count": 9,
     "metadata": {},
     "output_type": "execute_result"
    }
   ],
   "source": [
    "# Explore Various Columns\n",
    "credit_df.columns"
   ]
  },
  {
   "cell_type": "code",
   "execution_count": 11,
   "metadata": {},
   "outputs": [
    {
     "data": {
      "text/plain": [
       "CUST_ID                               0\n",
       "BALANCE                               0\n",
       "BALANCE_FREQUENCY                     0\n",
       "PURCHASES                             0\n",
       "ONEOFF_PURCHASES                      0\n",
       "INSTALLMENTS_PURCHASES                0\n",
       "CASH_ADVANCE                          0\n",
       "PURCHASES_FREQUENCY                   0\n",
       "ONEOFF_PURCHASES_FREQUENCY            0\n",
       "PURCHASES_INSTALLMENTS_FREQUENCY      0\n",
       "CASH_ADVANCE_FREQUENCY                0\n",
       "CASH_ADVANCE_TRX                      0\n",
       "PURCHASES_TRX                         0\n",
       "CREDIT_LIMIT                          1\n",
       "PAYMENTS                              0\n",
       "MINIMUM_PAYMENTS                    313\n",
       "PRC_FULL_PAYMENT                      0\n",
       "TENURE                                0\n",
       "dtype: int64"
      ]
     },
     "execution_count": 11,
     "metadata": {},
     "output_type": "execute_result"
    }
   ],
   "source": [
    "# Checking for Missing Values in any of the Columns\n",
    "credit_df.isna().sum()"
   ]
  },
  {
   "cell_type": "markdown",
   "metadata": {},
   "source": [
    "From the Missing Values we can make an observation that MINIMUM_PAYMENTS has 313 \"blanks\" and CREDIT_LIMIT had 1 \"blank\". Lets find out if we need the rows or we can do without them."
   ]
  },
  {
   "cell_type": "code",
   "execution_count": 17,
   "metadata": {},
   "outputs": [
    {
     "data": {
      "text/plain": [
       "'3.5083798882681565%'"
      ]
     },
     "execution_count": 17,
     "metadata": {},
     "output_type": "execute_result"
    }
   ],
   "source": [
    "# Percentage of Missing Values over Existing Values\n",
    "str((314/credit_df.shape[0]) * 100) + \"%\""
   ]
  },
  {
   "cell_type": "code",
   "execution_count": 19,
   "metadata": {},
   "outputs": [
    {
     "data": {
      "text/plain": [
       "CUST_ID                              object\n",
       "BALANCE                             float64\n",
       "BALANCE_FREQUENCY                   float64\n",
       "PURCHASES                           float64\n",
       "ONEOFF_PURCHASES                    float64\n",
       "INSTALLMENTS_PURCHASES              float64\n",
       "CASH_ADVANCE                        float64\n",
       "PURCHASES_FREQUENCY                 float64\n",
       "ONEOFF_PURCHASES_FREQUENCY          float64\n",
       "PURCHASES_INSTALLMENTS_FREQUENCY    float64\n",
       "CASH_ADVANCE_FREQUENCY              float64\n",
       "CASH_ADVANCE_TRX                      int64\n",
       "PURCHASES_TRX                         int64\n",
       "CREDIT_LIMIT                        float64\n",
       "PAYMENTS                            float64\n",
       "MINIMUM_PAYMENTS                    float64\n",
       "PRC_FULL_PAYMENT                    float64\n",
       "TENURE                                int64\n",
       "dtype: object"
      ]
     },
     "execution_count": 19,
     "metadata": {},
     "output_type": "execute_result"
    }
   ],
   "source": [
    "# Lets Look at the DataTypes\n",
    "credit_df.dtypes"
   ]
  },
  {
   "cell_type": "code",
   "execution_count": null,
   "metadata": {},
   "outputs": [],
   "source": []
  }
 ],
 "metadata": {
  "kernelspec": {
   "display_name": "Python 3",
   "language": "python",
   "name": "python3"
  },
  "language_info": {
   "codemirror_mode": {
    "name": "ipython",
    "version": 3
   },
   "file_extension": ".py",
   "mimetype": "text/x-python",
   "name": "python",
   "nbconvert_exporter": "python",
   "pygments_lexer": "ipython3",
   "version": "3.7.1"
  }
 },
 "nbformat": 4,
 "nbformat_minor": 2
}
