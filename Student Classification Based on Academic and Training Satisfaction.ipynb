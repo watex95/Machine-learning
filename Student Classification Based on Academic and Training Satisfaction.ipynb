{
 "cells": [
  {
   "cell_type": "markdown",
   "metadata": {},
   "source": [
    "### Data Description\n",
    "\n",
    "This data was collected from students using digital designed questionnaires (Kobocollect) from multiple mobile devices.\n",
    "systematic sampling method was applied in data collection.\n",
    "\n",
    "**DEFINITION OF ATTRIBUTES: The attributes represent questions/statements.**\n",
    "\n",
    "**dependent variable** = SATISFIED (Are you generally satisfied with training (YES=1, NO=0))\n",
    "\n",
    "\n",
    "**independent variables:** the below statements were to be responded to in  5 point linear lickert scale \n",
    "(strongly disagree=1, disagree=2, undecided=3, agree=4, strongly agree=5 )\n",
    "\n",
    ">**L_explain:** The trainer explains the application of concept taught in class to real life experience.  \n",
    "**L_avail:** The availability and accessibility of the trainer is satisfactory.  \n",
    "**C_ref:** There are enough reference and resaearch materials in the institution.  \n",
    "**L_exam:** exams are related to content covered   \n",
    "**C_dept:** The department are accessibile and responds to students swiftly.  \n",
    "**C_incorporated:** The course is incorporated with career expo activites  \n",
    "**T_net:** The institution is equiped with reliable internet connection   \n",
    "**I_interclass:** The interraction between you and the trainer during training is adequate   \n",
    "**I_inquire:** The trainer makes it comfortable for inquiries.  \n",
    "**I_consult:** you are comfortable consulting after class  \n",
    "**L_covers:** The trainer covers the whole syllabus before exams   \n",
    "**T_comp:** the institution is equiped with relable computers for research and IT work.  "
   ]
  },
  {
   "cell_type": "code",
   "execution_count": 14,
   "metadata": {},
   "outputs": [],
   "source": [
    "import pandas as pd\n",
    "import numpy as np\n",
    "import matplotlib.pyplot as plt\n",
    "import seaborn as sns\n",
    "\n",
    "sns.set_style('whitegrid')\n",
    "sns.set(rc={'figure.figsize':(9,9)})\n",
    "%matplotlib inline"
   ]
  },
  {
   "cell_type": "code",
   "execution_count": 15,
   "metadata": {},
   "outputs": [
    {
     "name": "stdout",
     "output_type": "stream",
     "text": [
      "association of gender and satisfaction.png\n",
      "Classifying satisfied students with training using Logistic regression.R\n",
      "course vs satisfaction.png\n",
      "gender_vs_satisfaction.png\n",
      "hist_lec.png\n",
      "Logistic regression Student satisfaction with triaining.ipynb\n",
      "ML_BREAST CANCER PREDICTION USING SVM.ipynb\n",
      "projo.csv\n",
      "projo_README.txt\n",
      "Student Classification Based on Academic and Training Satisfaction.ipynb\n",
      "wbcd.csv\n"
     ]
    }
   ],
   "source": [
    "!ls"
   ]
  },
  {
   "cell_type": "code",
   "execution_count": 16,
   "metadata": {},
   "outputs": [
    {
     "data": {
      "text/html": [
       "<div>\n",
       "<style scoped>\n",
       "    .dataframe tbody tr th:only-of-type {\n",
       "        vertical-align: middle;\n",
       "    }\n",
       "\n",
       "    .dataframe tbody tr th {\n",
       "        vertical-align: top;\n",
       "    }\n",
       "\n",
       "    .dataframe thead th {\n",
       "        text-align: right;\n",
       "    }\n",
       "</style>\n",
       "<table border=\"1\" class=\"dataframe\">\n",
       "  <thead>\n",
       "    <tr style=\"text-align: right;\">\n",
       "      <th></th>\n",
       "      <th>gender</th>\n",
       "      <th>age</th>\n",
       "      <th>course</th>\n",
       "      <th>L_explain</th>\n",
       "      <th>L_avail</th>\n",
       "      <th>C_ref</th>\n",
       "      <th>L_exam</th>\n",
       "      <th>C_dept</th>\n",
       "      <th>C_incorporated</th>\n",
       "      <th>T_net</th>\n",
       "      <th>I_interclass</th>\n",
       "      <th>I_inquire</th>\n",
       "      <th>I_consult</th>\n",
       "      <th>L_covers</th>\n",
       "      <th>T_comp</th>\n",
       "      <th>SATISFIED</th>\n",
       "    </tr>\n",
       "  </thead>\n",
       "  <tbody>\n",
       "    <tr>\n",
       "      <th>0</th>\n",
       "      <td>M</td>\n",
       "      <td>24.0</td>\n",
       "      <td>STASTISTICS</td>\n",
       "      <td>4</td>\n",
       "      <td>4</td>\n",
       "      <td>2</td>\n",
       "      <td>3</td>\n",
       "      <td>1</td>\n",
       "      <td>2</td>\n",
       "      <td>4</td>\n",
       "      <td>3</td>\n",
       "      <td>4</td>\n",
       "      <td>2</td>\n",
       "      <td>4</td>\n",
       "      <td>1</td>\n",
       "      <td>YES</td>\n",
       "    </tr>\n",
       "    <tr>\n",
       "      <th>1</th>\n",
       "      <td>M</td>\n",
       "      <td>22.0</td>\n",
       "      <td>MATHS_COMP</td>\n",
       "      <td>4</td>\n",
       "      <td>5</td>\n",
       "      <td>2</td>\n",
       "      <td>5</td>\n",
       "      <td>4</td>\n",
       "      <td>1</td>\n",
       "      <td>1</td>\n",
       "      <td>5</td>\n",
       "      <td>5</td>\n",
       "      <td>5</td>\n",
       "      <td>5</td>\n",
       "      <td>2</td>\n",
       "      <td>YES</td>\n",
       "    </tr>\n",
       "    <tr>\n",
       "      <th>2</th>\n",
       "      <td>M</td>\n",
       "      <td>19.0</td>\n",
       "      <td>BBIT</td>\n",
       "      <td>4</td>\n",
       "      <td>4</td>\n",
       "      <td>2</td>\n",
       "      <td>4</td>\n",
       "      <td>2</td>\n",
       "      <td>2</td>\n",
       "      <td>2</td>\n",
       "      <td>4</td>\n",
       "      <td>4</td>\n",
       "      <td>4</td>\n",
       "      <td>4</td>\n",
       "      <td>3</td>\n",
       "      <td>YES</td>\n",
       "    </tr>\n",
       "    <tr>\n",
       "      <th>3</th>\n",
       "      <td>F</td>\n",
       "      <td>18.0</td>\n",
       "      <td>MINING</td>\n",
       "      <td>4</td>\n",
       "      <td>4</td>\n",
       "      <td>5</td>\n",
       "      <td>5</td>\n",
       "      <td>3</td>\n",
       "      <td>1</td>\n",
       "      <td>2</td>\n",
       "      <td>4</td>\n",
       "      <td>1</td>\n",
       "      <td>4</td>\n",
       "      <td>5</td>\n",
       "      <td>5</td>\n",
       "      <td>YES</td>\n",
       "    </tr>\n",
       "    <tr>\n",
       "      <th>4</th>\n",
       "      <td>M</td>\n",
       "      <td>19.0</td>\n",
       "      <td>BCOM</td>\n",
       "      <td>3</td>\n",
       "      <td>4</td>\n",
       "      <td>4</td>\n",
       "      <td>4</td>\n",
       "      <td>2</td>\n",
       "      <td>1</td>\n",
       "      <td>1</td>\n",
       "      <td>4</td>\n",
       "      <td>4</td>\n",
       "      <td>4</td>\n",
       "      <td>3</td>\n",
       "      <td>2</td>\n",
       "      <td>NO</td>\n",
       "    </tr>\n",
       "  </tbody>\n",
       "</table>\n",
       "</div>"
      ],
      "text/plain": [
       "  gender   age       course  L_explain  L_avail  C_ref  L_exam  C_dept  \\\n",
       "0      M  24.0  STASTISTICS          4        4      2       3       1   \n",
       "1      M  22.0   MATHS_COMP          4        5      2       5       4   \n",
       "2      M  19.0         BBIT          4        4      2       4       2   \n",
       "3      F  18.0       MINING          4        4      5       5       3   \n",
       "4      M  19.0         BCOM          3        4      4       4       2   \n",
       "\n",
       "   C_incorporated  T_net  I_interclass  I_inquire  I_consult  L_covers  \\\n",
       "0               2      4             3          4          2         4   \n",
       "1               1      1             5          5          5         5   \n",
       "2               2      2             4          4          4         4   \n",
       "3               1      2             4          1          4         5   \n",
       "4               1      1             4          4          4         3   \n",
       "\n",
       "   T_comp SATISFIED  \n",
       "0       1       YES  \n",
       "1       2       YES  \n",
       "2       3       YES  \n",
       "3       5       YES  \n",
       "4       2        NO  "
      ]
     },
     "execution_count": 16,
     "metadata": {},
     "output_type": "execute_result"
    }
   ],
   "source": [
    "student_df = pd.read_csv('projo.csv')\n",
    "student_df.head()"
   ]
  },
  {
   "cell_type": "code",
   "execution_count": 17,
   "metadata": {},
   "outputs": [
    {
     "data": {
      "text/plain": [
       "<matplotlib.axes._subplots.AxesSubplot at 0x1622de30>"
      ]
     },
     "execution_count": 17,
     "metadata": {},
     "output_type": "execute_result"
    },
    {
     "data": {
      "image/png": "[encoded data removed]",
      "text/plain": [
       "<Figure size 432x288 with 1 Axes>"
      ]
     },
     "metadata": {
      "needs_background": "light"
     },
     "output_type": "display_data"
    }
   ],
   "source": [
    "# Check for unique values of course\n",
    "student_df.course.value_counts().plot(kind='bar')"
   ]
  },
  {
   "cell_type": "code",
   "execution_count": 18,
   "metadata": {},
   "outputs": [
    {
     "data": {
      "text/plain": [
       "Index(['gender', 'age', 'course', 'L_explain', 'L_avail', 'C_ref', 'L_exam',\n",
       "       'C_dept', 'C_incorporated', 'T_net', 'I_interclass', 'I_inquire',\n",
       "       'I_consult', 'L_covers', 'T_comp', 'SATISFIED'],\n",
       "      dtype='object')"
      ]
     },
     "execution_count": 18,
     "metadata": {},
     "output_type": "execute_result"
    }
   ],
   "source": [
    "student_df.columns"
   ]
  },
  {
   "cell_type": "code",
   "execution_count": 19,
   "metadata": {},
   "outputs": [
    {
     "data": {
      "text/plain": [
       "<matplotlib.axes._subplots.AxesSubplot at 0x17d8fab0>"
      ]
     },
     "execution_count": 19,
     "metadata": {},
     "output_type": "execute_result"
    },
    {
     "data": {
      "image/png": "[encoded data removed]",
      "text/plain": [
       "<Figure size 432x288 with 1 Axes>"
      ]
     },
     "metadata": {
      "needs_background": "light"
     },
     "output_type": "display_data"
    }
   ],
   "source": [
    "sns.countplot(x='age', data=student_df)"
   ]
  },
  {
   "cell_type": "code",
   "execution_count": 20,
   "metadata": {},
   "outputs": [
    {
     "data": {
      "text/plain": [
       "16"
      ]
     },
     "execution_count": 20,
     "metadata": {},
     "output_type": "execute_result"
    }
   ],
   "source": [
    "len(student_df.columns)"
   ]
  },
  {
   "cell_type": "code",
   "execution_count": 21,
   "metadata": {},
   "outputs": [
    {
     "data": {
      "text/plain": [
       "14"
      ]
     },
     "execution_count": 21,
     "metadata": {},
     "output_type": "execute_result"
    }
   ],
   "source": [
    "len(student_df.iloc[:, 2:].columns)"
   ]
  },
  {
   "cell_type": "code",
   "execution_count": 24,
   "metadata": {},
   "outputs": [
    {
     "name": "stderr",
     "output_type": "stream",
     "text": [
      "c:\\users\\botieno\\appdata\\local\\programs\\python\\python37-32\\lib\\site-packages\\numpy\\lib\\histograms.py:754: RuntimeWarning: invalid value encountered in greater_equal\n",
      "  keep = (tmp_a >= first_edge)\n",
      "c:\\users\\botieno\\appdata\\local\\programs\\python\\python37-32\\lib\\site-packages\\numpy\\lib\\histograms.py:755: RuntimeWarning: invalid value encountered in less_equal\n",
      "  keep &= (tmp_a <= last_edge)\n"
     ]
    },
    {
     "data": {
      "text/plain": [
       "<seaborn.axisgrid.PairGrid at 0x1d37d4b0>"
      ]
     },
     "execution_count": 24,
     "metadata": {},
     "output_type": "execute_result"
    },
    {
     "data": {
      "image/png": "[encoded data removed]",
      "text/plain": [
       "<Figure size 540x540 with 12 Axes>"
      ]
     },
     "metadata": {
      "needs_background": "light"
     },
     "output_type": "display_data"
    }
   ],
   "source": [
    "sns.pairplot(student_df.iloc[:, 1:5])"
   ]
  }
 ],
 "metadata": {
  "kernelspec": {
   "display_name": "Python 3",
   "language": "python",
   "name": "python3"
  },
  "language_info": {
   "codemirror_mode": {
    "name": "ipython",
    "version": 3
   },
   "file_extension": ".py",
   "mimetype": "text/x-python",
   "name": "python",
   "nbconvert_exporter": "python",
   "pygments_lexer": "ipython3",
   "version": "3.7.1"
  }
 },
 "nbformat": 4,
 "nbformat_minor": 2
}
