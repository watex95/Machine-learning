{
 "cells": [
  {
   "cell_type": "code",
   "execution_count": 2,
   "metadata": {},
   "outputs": [
    {
     "name": "stderr",
     "output_type": "stream",
     "text": [
      "C:\\Users\\hnyawate\\Anaconda3\\lib\\site-packages\\sklearn\\cross_validation.py:41: DeprecationWarning: This module was deprecated in version 0.18 in favor of the model_selection module into which all the refactored classes and functions are moved. Also note that the interface of the new CV iterators are different from that of this module. This module will be removed in 0.20.\n",
      "  \"This module will be removed in 0.20.\", DeprecationWarning)\n"
     ]
    }
   ],
   "source": [
    "import pandas as pd\n",
    "import numpy as np\n",
    "from sklearn import preprocessing\n",
    "import matplotlib.pyplot as plt \n",
    "plt.rc(\"font\", size=14)\n",
    "from sklearn.linear_model import LogisticRegression\n",
    "from sklearn.cross_validation import train_test_split\n",
    "import seaborn as sns\n",
    "sns.set(style=\"white\")\n",
    "sns.set(style=\"whitegrid\", color_codes=True)"
   ]
  },
  {
   "cell_type": "code",
   "execution_count": 16,
   "metadata": {},
   "outputs": [
    {
     "data": {
      "text/html": [
       "<div>\n",
       "<style scoped>\n",
       "    .dataframe tbody tr th:only-of-type {\n",
       "        vertical-align: middle;\n",
       "    }\n",
       "\n",
       "    .dataframe tbody tr th {\n",
       "        vertical-align: top;\n",
       "    }\n",
       "\n",
       "    .dataframe thead th {\n",
       "        text-align: right;\n",
       "    }\n",
       "</style>\n",
       "<table border=\"1\" class=\"dataframe\">\n",
       "  <thead>\n",
       "    <tr style=\"text-align: right;\">\n",
       "      <th></th>\n",
       "      <th>gender</th>\n",
       "      <th>age</th>\n",
       "      <th>course</th>\n",
       "      <th>L_explain</th>\n",
       "      <th>L_avail</th>\n",
       "      <th>C_ref</th>\n",
       "      <th>L_exam</th>\n",
       "      <th>C_dept</th>\n",
       "      <th>C_incorporated</th>\n",
       "      <th>T_net</th>\n",
       "      <th>I_interclass</th>\n",
       "      <th>I_inquire</th>\n",
       "      <th>I_consult</th>\n",
       "      <th>L_covers</th>\n",
       "      <th>T_comp</th>\n",
       "      <th>SATISFIED</th>\n",
       "    </tr>\n",
       "  </thead>\n",
       "  <tbody>\n",
       "    <tr>\n",
       "      <th>0</th>\n",
       "      <td>M</td>\n",
       "      <td>24.0</td>\n",
       "      <td>STASTISTICS</td>\n",
       "      <td>4</td>\n",
       "      <td>4</td>\n",
       "      <td>2</td>\n",
       "      <td>3</td>\n",
       "      <td>1</td>\n",
       "      <td>2</td>\n",
       "      <td>4</td>\n",
       "      <td>3</td>\n",
       "      <td>4</td>\n",
       "      <td>2</td>\n",
       "      <td>4</td>\n",
       "      <td>1</td>\n",
       "      <td>YES</td>\n",
       "    </tr>\n",
       "    <tr>\n",
       "      <th>1</th>\n",
       "      <td>M</td>\n",
       "      <td>22.0</td>\n",
       "      <td>MATHS_COMP</td>\n",
       "      <td>4</td>\n",
       "      <td>5</td>\n",
       "      <td>2</td>\n",
       "      <td>5</td>\n",
       "      <td>4</td>\n",
       "      <td>1</td>\n",
       "      <td>1</td>\n",
       "      <td>5</td>\n",
       "      <td>5</td>\n",
       "      <td>5</td>\n",
       "      <td>5</td>\n",
       "      <td>2</td>\n",
       "      <td>YES</td>\n",
       "    </tr>\n",
       "    <tr>\n",
       "      <th>2</th>\n",
       "      <td>M</td>\n",
       "      <td>19.0</td>\n",
       "      <td>BBIT</td>\n",
       "      <td>4</td>\n",
       "      <td>4</td>\n",
       "      <td>2</td>\n",
       "      <td>4</td>\n",
       "      <td>2</td>\n",
       "      <td>2</td>\n",
       "      <td>2</td>\n",
       "      <td>4</td>\n",
       "      <td>4</td>\n",
       "      <td>4</td>\n",
       "      <td>4</td>\n",
       "      <td>3</td>\n",
       "      <td>YES</td>\n",
       "    </tr>\n",
       "    <tr>\n",
       "      <th>3</th>\n",
       "      <td>F</td>\n",
       "      <td>18.0</td>\n",
       "      <td>MINING</td>\n",
       "      <td>4</td>\n",
       "      <td>4</td>\n",
       "      <td>5</td>\n",
       "      <td>5</td>\n",
       "      <td>3</td>\n",
       "      <td>1</td>\n",
       "      <td>2</td>\n",
       "      <td>4</td>\n",
       "      <td>1</td>\n",
       "      <td>4</td>\n",
       "      <td>5</td>\n",
       "      <td>5</td>\n",
       "      <td>YES</td>\n",
       "    </tr>\n",
       "    <tr>\n",
       "      <th>4</th>\n",
       "      <td>M</td>\n",
       "      <td>19.0</td>\n",
       "      <td>BCOM</td>\n",
       "      <td>3</td>\n",
       "      <td>4</td>\n",
       "      <td>4</td>\n",
       "      <td>4</td>\n",
       "      <td>2</td>\n",
       "      <td>1</td>\n",
       "      <td>1</td>\n",
       "      <td>4</td>\n",
       "      <td>4</td>\n",
       "      <td>4</td>\n",
       "      <td>3</td>\n",
       "      <td>2</td>\n",
       "      <td>NO</td>\n",
       "    </tr>\n",
       "  </tbody>\n",
       "</table>\n",
       "</div>"
      ],
      "text/plain": [
       "  gender   age       course  L_explain  L_avail  C_ref  L_exam  C_dept  \\\n",
       "0      M  24.0  STASTISTICS          4        4      2       3       1   \n",
       "1      M  22.0   MATHS_COMP          4        5      2       5       4   \n",
       "2      M  19.0         BBIT          4        4      2       4       2   \n",
       "3      F  18.0       MINING          4        4      5       5       3   \n",
       "4      M  19.0         BCOM          3        4      4       4       2   \n",
       "\n",
       "   C_incorporated  T_net  I_interclass  I_inquire  I_consult  L_covers  \\\n",
       "0               2      4             3          4          2         4   \n",
       "1               1      1             5          5          5         5   \n",
       "2               2      2             4          4          4         4   \n",
       "3               1      2             4          1          4         5   \n",
       "4               1      1             4          4          4         3   \n",
       "\n",
       "   T_comp SATISFIED  \n",
       "0       1       YES  \n",
       "1       2       YES  \n",
       "2       3       YES  \n",
       "3       5       YES  \n",
       "4       2        NO  "
      ]
     },
     "execution_count": 16,
     "metadata": {},
     "output_type": "execute_result"
    }
   ],
   "source": [
    "data=pd.read_csv('projo.csv')\n",
    "data.head()"
   ]
  },
  {
   "cell_type": "code",
   "execution_count": 17,
   "metadata": {},
   "outputs": [
    {
     "name": "stdout",
     "output_type": "stream",
     "text": [
      "['gender', 'age', 'course', 'L_explain', 'L_avail', 'C_ref', 'L_exam', 'C_dept', 'C_incorporated', 'T_net', 'I_interclass', 'I_inquire', 'I_consult', 'L_covers', 'T_comp', 'SATISFIED']\n"
     ]
    }
   ],
   "source": [
    "print(list(data.columns))"
   ]
  },
  {
   "cell_type": "code",
   "execution_count": 18,
   "metadata": {},
   "outputs": [
    {
     "data": {
      "text/plain": [
       "YES    541\n",
       "NO     207\n",
       "Name: SATISFIED, dtype: int64"
      ]
     },
     "execution_count": 18,
     "metadata": {},
     "output_type": "execute_result"
    }
   ],
   "source": [
    "data['SATISFIED'].value_counts()"
   ]
  },
  {
   "cell_type": "code",
   "execution_count": 20,
   "metadata": {},
   "outputs": [
    {
     "ename": "AttributeError",
     "evalue": "module 'matplotlib.pyplot' has no attribute 'save_fig'",
     "output_type": "error",
     "traceback": [
      "\u001b[1;31m---------------------------------------------------------------------------\u001b[0m",
      "\u001b[1;31mAttributeError\u001b[0m                            Traceback (most recent call last)",
      "\u001b[1;32m<ipython-input-20-20ffe6609c20>\u001b[0m in \u001b[0;36m<module>\u001b[1;34m()\u001b[0m\n\u001b[0;32m      1\u001b[0m \u001b[0msns\u001b[0m\u001b[1;33m.\u001b[0m\u001b[0mcountplot\u001b[0m\u001b[1;33m(\u001b[0m\u001b[0mx\u001b[0m\u001b[1;33m=\u001b[0m\u001b[1;34m'SATISFIED'\u001b[0m\u001b[1;33m,\u001b[0m\u001b[0mdata\u001b[0m\u001b[1;33m=\u001b[0m\u001b[0mdata\u001b[0m\u001b[1;33m,\u001b[0m\u001b[0mpalette\u001b[0m\u001b[1;33m=\u001b[0m\u001b[1;34m'hls'\u001b[0m\u001b[1;33m)\u001b[0m\u001b[1;33m\u001b[0m\u001b[0m\n\u001b[1;32m----> 2\u001b[1;33m \u001b[0mplt\u001b[0m\u001b[1;33m.\u001b[0m\u001b[0msave_fig\u001b[0m\u001b[1;33m(\u001b[0m\u001b[1;34m'count_plot'\u001b[0m\u001b[1;33m)\u001b[0m\u001b[1;33m\u001b[0m\u001b[0m\n\u001b[0m",
      "\u001b[1;31mAttributeError\u001b[0m: module 'matplotlib.pyplot' has no attribute 'save_fig'"
     ]
    },
    {
     "data": {
      "image/png": "[encoded data removed]",
      "text/plain": [
       "<Figure size 432x288 with 1 Axes>"
      ]
     },
     "metadata": {
      "needs_background": "light"
     },
     "output_type": "display_data"
    }
   ],
   "source": [
    "sns.countplot(x='SATISFIED',data=data,palette='hls')\n",
    "plt.save_fig('count_plot')\n",
    "\n"
   ]
  },
  {
   "cell_type": "code",
   "execution_count": 21,
   "metadata": {},
   "outputs": [
    {
     "name": "stdout",
     "output_type": "stream",
     "text": [
      "percentage of non-satisfied students is 72.32620320855615\n",
      "percentage of satisfied students 27.67379679144385\n"
     ]
    }
   ],
   "source": [
    "count_no_sub = len(data[data['SATISFIED']=='YES'])\n",
    "count_sub = len(data[data['SATISFIED']=='NO'])\n",
    "pct_of_no_sub = count_no_sub/(count_no_sub+count_sub)\n",
    "print(\"percentage of non-satisfied students is\", pct_of_no_sub*100)\n",
    "pct_of_sub = count_sub/(count_no_sub+count_sub)\n",
    "print(\"percentage of satisfied students\", pct_of_sub*100)"
   ]
  },
  {
   "cell_type": "code",
   "execution_count": 22,
   "metadata": {},
   "outputs": [
    {
     "data": {
      "text/html": [
       "<div>\n",
       "<style scoped>\n",
       "    .dataframe tbody tr th:only-of-type {\n",
       "        vertical-align: middle;\n",
       "    }\n",
       "\n",
       "    .dataframe tbody tr th {\n",
       "        vertical-align: top;\n",
       "    }\n",
       "\n",
       "    .dataframe thead th {\n",
       "        text-align: right;\n",
       "    }\n",
       "</style>\n",
       "<table border=\"1\" class=\"dataframe\">\n",
       "  <thead>\n",
       "    <tr style=\"text-align: right;\">\n",
       "      <th></th>\n",
       "      <th>age</th>\n",
       "      <th>L_explain</th>\n",
       "      <th>L_avail</th>\n",
       "      <th>C_ref</th>\n",
       "      <th>L_exam</th>\n",
       "      <th>C_dept</th>\n",
       "      <th>C_incorporated</th>\n",
       "      <th>T_net</th>\n",
       "      <th>I_interclass</th>\n",
       "      <th>I_inquire</th>\n",
       "      <th>I_consult</th>\n",
       "      <th>L_covers</th>\n",
       "      <th>T_comp</th>\n",
       "    </tr>\n",
       "    <tr>\n",
       "      <th>SATISFIED</th>\n",
       "      <th></th>\n",
       "      <th></th>\n",
       "      <th></th>\n",
       "      <th></th>\n",
       "      <th></th>\n",
       "      <th></th>\n",
       "      <th></th>\n",
       "      <th></th>\n",
       "      <th></th>\n",
       "      <th></th>\n",
       "      <th></th>\n",
       "      <th></th>\n",
       "      <th></th>\n",
       "    </tr>\n",
       "  </thead>\n",
       "  <tbody>\n",
       "    <tr>\n",
       "      <th>NO</th>\n",
       "      <td>22.347826</td>\n",
       "      <td>2.550725</td>\n",
       "      <td>2.463768</td>\n",
       "      <td>2.072464</td>\n",
       "      <td>3.647343</td>\n",
       "      <td>2.091787</td>\n",
       "      <td>2.144928</td>\n",
       "      <td>2.280193</td>\n",
       "      <td>3.429952</td>\n",
       "      <td>3.072464</td>\n",
       "      <td>2.690821</td>\n",
       "      <td>3.512077</td>\n",
       "      <td>1.874396</td>\n",
       "    </tr>\n",
       "    <tr>\n",
       "      <th>YES</th>\n",
       "      <td>22.416667</td>\n",
       "      <td>3.809612</td>\n",
       "      <td>3.959335</td>\n",
       "      <td>3.556377</td>\n",
       "      <td>4.146026</td>\n",
       "      <td>3.730129</td>\n",
       "      <td>3.731978</td>\n",
       "      <td>3.829945</td>\n",
       "      <td>4.044362</td>\n",
       "      <td>4.038817</td>\n",
       "      <td>3.951941</td>\n",
       "      <td>4.151571</td>\n",
       "      <td>3.632163</td>\n",
       "    </tr>\n",
       "  </tbody>\n",
       "</table>\n",
       "</div>"
      ],
      "text/plain": [
       "                 age  L_explain   L_avail     C_ref    L_exam    C_dept  \\\n",
       "SATISFIED                                                                 \n",
       "NO         22.347826   2.550725  2.463768  2.072464  3.647343  2.091787   \n",
       "YES        22.416667   3.809612  3.959335  3.556377  4.146026  3.730129   \n",
       "\n",
       "           C_incorporated     T_net  I_interclass  I_inquire  I_consult  \\\n",
       "SATISFIED                                                                 \n",
       "NO               2.144928  2.280193      3.429952   3.072464   2.690821   \n",
       "YES              3.731978  3.829945      4.044362   4.038817   3.951941   \n",
       "\n",
       "           L_covers    T_comp  \n",
       "SATISFIED                      \n",
       "NO         3.512077  1.874396  \n",
       "YES        4.151571  3.632163  "
      ]
     },
     "execution_count": 22,
     "metadata": {},
     "output_type": "execute_result"
    }
   ],
   "source": [
    "data.groupby('SATISFIED').mean()"
   ]
  },
  {
   "cell_type": "code",
   "execution_count": 24,
   "metadata": {},
   "outputs": [
    {
     "data": {
      "image/png": "[encoded data removed]",
      "text/plain": [
       "<Figure size 432x288 with 1 Axes>"
      ]
     },
     "metadata": {
      "needs_background": "light"
     },
     "output_type": "display_data"
    }
   ],
   "source": [
    "#Visualizations\n",
    "\n",
    "%matplotlib inline\n",
    "pd.crosstab(data.gender,data.SATISFIED).plot(kind='bar')\n",
    "plt.title('satisfaction frequency by gender')\n",
    "plt.xlabel('gender')\n",
    "plt.ylabel('satisfaction level')\n",
    "plt.savefig('association of gender and satisfaction')"
   ]
  },
  {
   "cell_type": "code",
   "execution_count": 25,
   "metadata": {},
   "outputs": [
    {
     "data": {
      "image/png": "[encoded data removed]",
      "text/plain": [
       "<Figure size 432x288 with 1 Axes>"
      ]
     },
     "metadata": {
      "needs_background": "light"
     },
     "output_type": "display_data"
    }
   ],
   "source": [
    "#The frequency of purchase of the deposit depends a great deal on the job title. Thus, the job title can be a good \n",
    "#predictor of the outcome variable.\n",
    "\n",
    "table=pd.crosstab(data.course,data.SATISFIED)\n",
    "table.div(table.sum(1).astype(float), axis=0).plot(kind='bar', stacked=True)\n",
    "plt.title('Stacked Bar Chart of course vs satisfation')\n",
    "plt.xlabel('course')\n",
    "plt.ylabel('satisfaction level')\n",
    "plt.savefig('course vs satisfaction')"
   ]
  },
  {
   "cell_type": "code",
   "execution_count": 27,
   "metadata": {},
   "outputs": [
    {
     "data": {
      "image/png": "[encoded data removed]",
      "text/plain": [
       "<Figure size 432x288 with 1 Axes>"
      ]
     },
     "metadata": {
      "needs_background": "light"
     },
     "output_type": "display_data"
    }
   ],
   "source": [
    "#The gender does not seem a strong predictor for the outcome variable.\n",
    "\n",
    "table=pd.crosstab(data.L_explain,data.SATISFIED)\n",
    "table.div(table.sum(1).astype(float), axis=0).plot(kind='bar', stacked=True)\n",
    "plt.title('Stacked Bar Chart of gender vs satisfaction')\n",
    "plt.xlabel('L_explain')\n",
    "plt.ylabel('satisfaction_level')\n",
    "plt.savefig('gender_vs_satisfaction')"
   ]
  },
  {
   "cell_type": "code",
   "execution_count": 28,
   "metadata": {},
   "outputs": [
    {
     "data": {
      "image/png": "[encoded data removed]",
      "text/plain": [
       "<Figure size 432x288 with 1 Axes>"
      ]
     },
     "metadata": {
      "needs_background": "light"
     },
     "output_type": "display_data"
    }
   ],
   "source": [
    "data.age.hist()\n",
    "plt.title('Histogram of lecturer')\n",
    "plt.xlabel('L_explain')\n",
    "plt.ylabel('SATISFIED')\n",
    "plt.savefig('hist_lec')"
   ]
  },
  {
   "cell_type": "code",
   "execution_count": 41,
   "metadata": {},
   "outputs": [],
   "source": [
    "X = data.loc[:, data.columns != ('SATISFIED','gender','course','age')]\n",
    "y = data.loc[:, data.columns == 'SATISFIED']\n",
    "\n"
   ]
  },
  {
   "cell_type": "code",
   "execution_count": 43,
   "metadata": {},
   "outputs": [
    {
     "ename": "TypeError",
     "evalue": "cannot do slice indexing on <class 'pandas.core.indexes.range.RangeIndex'> with these indexers [    gender   age       course  L_explain  L_avail  C_ref  L_exam  C_dept  \\\n0        M  24.0  STASTISTICS          4        4      2       3       1   \n1        M  22.0   MATHS_COMP          4        5      2       5       4   \n2        M  19.0         BBIT          4        4      2       4       2   \n3        F  18.0       MINING          4        4      5       5       3   \n4        M  19.0         BCOM          3        4      4       4       2   \n5        F  24.0          BPS          4        4      2       4       2   \n6        M  22.0          BPS          5        4      4       4       4   \n7        F  21.0  STASTISTICS          4        4      4       5       4   \n8        M  20.0   MATHS_COMP          4        5      2       1       2   \n9        F  21.0         BBIT          4        4      3       3       1   \n10       F  20.0       MINING          4        4      4       4       4   \n11       M  23.0         BCOM          1        1      2       4       1   \n12       M  22.0          BPS          1        4      3       4       5   \n13       M  22.0           IT          2        5      2       4       4   \n14       F  22.0   MATHS_COMP          4        4      2       3       4   \n15       M  21.0          BPS          4        2      2       4       2   \n16       F  21.0   MATHS_COMP          4        4      3       4       4   \n17       M  23.0         BCOM          3        2      4       4       2   \n18       F  22.0         BCOM          4        2      1       3       2   \n19       M  22.0  STASTISTICS          4        4      4       4       4   \n20       F  22.0   MATHS_COMP          4        4      2       4       2   \n21       F  22.0         BBIT          5        5      3       5       3   \n22       M  22.0       MINING          4        2      1       1       2   \n23       M  22.0         BCOM          2        2      2       3       1   \n24       M  22.0          BPS          1        3      1       5       1   \n25       F  22.0          BPS          2        1      2       4       1   \n26       M  22.0  STASTISTICS          5        4      3       4       1   \n27       F  22.0   MATHS_COMP          4        4      2       4       4   \n28       M  22.0         BBIT          4        4      4       5       2   \n29       F  22.0       MINING          1        1      1       4       1   \n..     ...   ...          ...        ...      ...    ...     ...     ...   \n718      M  23.0   MATHS_COMP          4        5      4       5       4   \n719      M  23.0          BPS          4        4      5       5       3   \n720      M  23.0   MATHS_COMP          5        5      4       4       5   \n721      F  23.0         BCOM          3        5      4       5       4   \n722      M  23.0         BCOM          5        4      4       5       4   \n723      F  23.0  STASTISTICS          5        5      5       5       4   \n724      M  23.0   MATHS_COMP          4        4      4       4       4   \n725      F  23.0         BBIT          4        5      4       4       4   \n726      M  23.0       MINING          4        4      4       4       5   \n727      F  23.0         BCOM          4        4      4       4       3   \n728      F  23.0          BPS          4        5      5       4       4   \n729      M  23.0          BPS          4        5      5       4       4   \n730      M  23.0  STASTISTICS          5        3      4       5       4   \n731      M  23.0   MATHS_COMP          4        4      4       4       4   \n732      F  23.0         BBIT          3        4      4       5       5   \n733      M  23.0       MINING          2        4      4       4       4   \n734      F  23.0         BCOM          3        5      5       4       4   \n735      M  23.0          BPS          4        5      4       5       4   \n736      F  23.0           IT          5        5      5       5       4   \n737      M  23.0   MATHS_COMP          5        4      3       3       3   \n738      F  23.0          BPS          5        4      4       3       4   \n739      F  23.0   MATHS_COMP          2        4      5       3       4   \n740      M  23.0         BCOM          3        4      4       5       4   \n741      M  23.0         BCOM          2        4      3       4       4   \n742      M  24.0  STASTISTICS          5        5      5       5       5   \n743      F  24.0   MATHS_COMP          4        3      4       4       3   \n744      M  24.0         BBIT          5        5      5       5       5   \n745      F  24.0       MINING          5        5      5       5       5   \n746      M  24.0         BCOM          4        4      4       4       4   \n747      F  24.0          BPS          5        4      5       4       5   \n\n     C_incorporated  T_net  I_interclass  I_inquire  I_consult  L_covers  \\\n0                 2      4             3          4          2         4   \n1                 1      1             5          5          5         5   \n2                 2      2             4          4          4         4   \n3                 1      2             4          1          4         5   \n4                 1      1             4          4          4         3   \n5                 4      2             4          4          1         4   \n6                 2      4             4          4          2         4   \n7                 3      3             4          4          4         5   \n8                 2      3             4          4          5         5   \n9                 3      1             4          4          3         3   \n10                2      2             4          4          4         4   \n11                4      4             4          4          4         4   \n12                5      4             4          4          4         5   \n13                3      2             4          4          5         2   \n14                3      2             3          4          3         5   \n15                2      2             4          4          2         4   \n16                5      1             4          3          5         3   \n17                3      4             2          4          5         4   \n18                2      1             4          4          3         4   \n19                4      3             4          4          3         4   \n20                1      1             4          2          2         2   \n21                3      4             5          5          4         5   \n22                4      2             4          4          4         4   \n23                4      3             3          2          4         2   \n24                1      1             4          1          3         5   \n25                1      1             4          1          1         4   \n26                5      5             5          4          2         5   \n27                4      4             4          4          4         4   \n28                2      4             4          3          4         5   \n29                2      5             5          4          1         4   \n..              ...    ...           ...        ...        ...       ...   \n718               4      5             4          4          5         5   \n719               4      4             4          4          4         4   \n720               4      4             4          4          5         5   \n721               5      5             4          4          5         4   \n722               4      5             4          5          5         4   \n723               5      4             4          5          5         4   \n724               4      4             4          4          4         4   \n725               5      5             4          3          5         5   \n726               4      5             4          4          4         4   \n727               4      4             4          4          4         4   \n728               4      5             4          4          5         5   \n729               5      5             4          4          5         4   \n730               4      4             4          4          4         4   \n731               4      5             4          4          4         4   \n732               5      5             5          5          5         5   \n733               5      5             4          4          4         4   \n734               4      4             5          4          4         5   \n735               5      5             5          5          5         5   \n736               5      5             5          5          5         5   \n737               4      5             3          2          4         4   \n738               5      5             4          4          4         4   \n739               4      3             3          4          4         5   \n740               4      5             4          4          5         4   \n741               4      5             5          3          4         4   \n742               5      5             5          4          5         5   \n743               4      4             4          3          4         3   \n744               5      5             5          5          5         5   \n745               5      5             5          5          5         5   \n746               4      4             4          4          4         4   \n747               4      5             4          4          4         5   \n\n     T_comp SATISFIED  \n0         1       YES  \n1         2       YES  \n2         3       YES  \n3         5       YES  \n4         2        NO  \n5         1       YES  \n6         4       YES  \n7         3       YES  \n8         1       YES  \n9         3       YES  \n10        2       YES  \n11        2        NO  \n12        4       YES  \n13        4       YES  \n14        2       YES  \n15        2       YES  \n16        2       YES  \n17        3       YES  \n18        2        NO  \n19        4       YES  \n20        1       YES  \n21        4       YES  \n22        3        NO  \n23        2        NO  \n24        1        NO  \n25        1        NO  \n26        4        NO  \n27        2       YES  \n28        4       YES  \n29        1        NO  \n..      ...       ...  \n718       5       YES  \n719       4       YES  \n720       4       YES  \n721       4       YES  \n722       5       YES  \n723       4       YES  \n724       4       YES  \n725       5       YES  \n726       5       YES  \n727       4       YES  \n728       4       YES  \n729       4       YES  \n730       4       YES  \n731       5       YES  \n732       5       YES  \n733       4       YES  \n734       4       YES  \n735       5       YES  \n736       4       YES  \n737       3       YES  \n738       4       YES  \n739       4       YES  \n740       4       YES  \n741       4       YES  \n742       4       YES  \n743       4       YES  \n744       5       YES  \n745       5       YES  \n746       4       YES  \n747       4       YES  \n\n[748 rows x 16 columns]] of <class 'pandas.core.frame.DataFrame'>",
     "output_type": "error",
     "traceback": [
      "\u001b[1;31m---------------------------------------------------------------------------\u001b[0m",
      "\u001b[1;31mTypeError\u001b[0m                                 Traceback (most recent call last)",
      "\u001b[1;32m<ipython-input-43-7bd38af3a3f2>\u001b[0m in \u001b[0;36m<module>\u001b[1;34m()\u001b[0m\n\u001b[1;32m----> 1\u001b[1;33m \u001b[0mdata\u001b[0m\u001b[1;33m.\u001b[0m\u001b[0mhead\u001b[0m\u001b[1;33m(\u001b[0m\u001b[0mX\u001b[0m\u001b[1;33m)\u001b[0m\u001b[1;33m\u001b[0m\u001b[0m\n\u001b[0m",
      "\u001b[1;32m~\\Anaconda3\\lib\\site-packages\\pandas\\core\\generic.py\u001b[0m in \u001b[0;36mhead\u001b[1;34m(self, n)\u001b[0m\n\u001b[0;32m   3970\u001b[0m         \"\"\"\n\u001b[0;32m   3971\u001b[0m \u001b[1;33m\u001b[0m\u001b[0m\n\u001b[1;32m-> 3972\u001b[1;33m         \u001b[1;32mreturn\u001b[0m \u001b[0mself\u001b[0m\u001b[1;33m.\u001b[0m\u001b[0miloc\u001b[0m\u001b[1;33m[\u001b[0m\u001b[1;33m:\u001b[0m\u001b[0mn\u001b[0m\u001b[1;33m]\u001b[0m\u001b[1;33m\u001b[0m\u001b[0m\n\u001b[0m\u001b[0;32m   3973\u001b[0m \u001b[1;33m\u001b[0m\u001b[0m\n\u001b[0;32m   3974\u001b[0m     \u001b[1;32mdef\u001b[0m \u001b[0mtail\u001b[0m\u001b[1;33m(\u001b[0m\u001b[0mself\u001b[0m\u001b[1;33m,\u001b[0m \u001b[0mn\u001b[0m\u001b[1;33m=\u001b[0m\u001b[1;36m5\u001b[0m\u001b[1;33m)\u001b[0m\u001b[1;33m:\u001b[0m\u001b[1;33m\u001b[0m\u001b[0m\n",
      "\u001b[1;32m~\\Anaconda3\\lib\\site-packages\\pandas\\core\\indexing.py\u001b[0m in \u001b[0;36m__getitem__\u001b[1;34m(self, key)\u001b[0m\n\u001b[0;32m   1476\u001b[0m \u001b[1;33m\u001b[0m\u001b[0m\n\u001b[0;32m   1477\u001b[0m             \u001b[0mmaybe_callable\u001b[0m \u001b[1;33m=\u001b[0m \u001b[0mcom\u001b[0m\u001b[1;33m.\u001b[0m\u001b[0m_apply_if_callable\u001b[0m\u001b[1;33m(\u001b[0m\u001b[0mkey\u001b[0m\u001b[1;33m,\u001b[0m \u001b[0mself\u001b[0m\u001b[1;33m.\u001b[0m\u001b[0mobj\u001b[0m\u001b[1;33m)\u001b[0m\u001b[1;33m\u001b[0m\u001b[0m\n\u001b[1;32m-> 1478\u001b[1;33m             \u001b[1;32mreturn\u001b[0m \u001b[0mself\u001b[0m\u001b[1;33m.\u001b[0m\u001b[0m_getitem_axis\u001b[0m\u001b[1;33m(\u001b[0m\u001b[0mmaybe_callable\u001b[0m\u001b[1;33m,\u001b[0m \u001b[0maxis\u001b[0m\u001b[1;33m=\u001b[0m\u001b[0maxis\u001b[0m\u001b[1;33m)\u001b[0m\u001b[1;33m\u001b[0m\u001b[0m\n\u001b[0m\u001b[0;32m   1479\u001b[0m \u001b[1;33m\u001b[0m\u001b[0m\n\u001b[0;32m   1480\u001b[0m     \u001b[1;32mdef\u001b[0m \u001b[0m_is_scalar_access\u001b[0m\u001b[1;33m(\u001b[0m\u001b[0mself\u001b[0m\u001b[1;33m,\u001b[0m \u001b[0mkey\u001b[0m\u001b[1;33m)\u001b[0m\u001b[1;33m:\u001b[0m\u001b[1;33m\u001b[0m\u001b[0m\n",
      "\u001b[1;32m~\\Anaconda3\\lib\\site-packages\\pandas\\core\\indexing.py\u001b[0m in \u001b[0;36m_getitem_axis\u001b[1;34m(self, key, axis)\u001b[0m\n\u001b[0;32m   2078\u001b[0m \u001b[1;33m\u001b[0m\u001b[0m\n\u001b[0;32m   2079\u001b[0m         \u001b[1;32mif\u001b[0m \u001b[0misinstance\u001b[0m\u001b[1;33m(\u001b[0m\u001b[0mkey\u001b[0m\u001b[1;33m,\u001b[0m \u001b[0mslice\u001b[0m\u001b[1;33m)\u001b[0m\u001b[1;33m:\u001b[0m\u001b[1;33m\u001b[0m\u001b[0m\n\u001b[1;32m-> 2080\u001b[1;33m             \u001b[1;32mreturn\u001b[0m \u001b[0mself\u001b[0m\u001b[1;33m.\u001b[0m\u001b[0m_get_slice_axis\u001b[0m\u001b[1;33m(\u001b[0m\u001b[0mkey\u001b[0m\u001b[1;33m,\u001b[0m \u001b[0maxis\u001b[0m\u001b[1;33m=\u001b[0m\u001b[0maxis\u001b[0m\u001b[1;33m)\u001b[0m\u001b[1;33m\u001b[0m\u001b[0m\n\u001b[0m\u001b[0;32m   2081\u001b[0m \u001b[1;33m\u001b[0m\u001b[0m\n\u001b[0;32m   2082\u001b[0m         \u001b[1;32mif\u001b[0m \u001b[0misinstance\u001b[0m\u001b[1;33m(\u001b[0m\u001b[0mkey\u001b[0m\u001b[1;33m,\u001b[0m \u001b[0mlist\u001b[0m\u001b[1;33m)\u001b[0m\u001b[1;33m:\u001b[0m\u001b[1;33m\u001b[0m\u001b[0m\n",
      "\u001b[1;32m~\\Anaconda3\\lib\\site-packages\\pandas\\core\\indexing.py\u001b[0m in \u001b[0;36m_get_slice_axis\u001b[1;34m(self, slice_obj, axis)\u001b[0m\n\u001b[0;32m   2046\u001b[0m             \u001b[1;32mreturn\u001b[0m \u001b[0mobj\u001b[0m\u001b[1;33m.\u001b[0m\u001b[0mcopy\u001b[0m\u001b[1;33m(\u001b[0m\u001b[0mdeep\u001b[0m\u001b[1;33m=\u001b[0m\u001b[1;32mFalse\u001b[0m\u001b[1;33m)\u001b[0m\u001b[1;33m\u001b[0m\u001b[0m\n\u001b[0;32m   2047\u001b[0m \u001b[1;33m\u001b[0m\u001b[0m\n\u001b[1;32m-> 2048\u001b[1;33m         \u001b[0mslice_obj\u001b[0m \u001b[1;33m=\u001b[0m \u001b[0mself\u001b[0m\u001b[1;33m.\u001b[0m\u001b[0m_convert_slice_indexer\u001b[0m\u001b[1;33m(\u001b[0m\u001b[0mslice_obj\u001b[0m\u001b[1;33m,\u001b[0m \u001b[0maxis\u001b[0m\u001b[1;33m)\u001b[0m\u001b[1;33m\u001b[0m\u001b[0m\n\u001b[0m\u001b[0;32m   2049\u001b[0m         \u001b[1;32mif\u001b[0m \u001b[0misinstance\u001b[0m\u001b[1;33m(\u001b[0m\u001b[0mslice_obj\u001b[0m\u001b[1;33m,\u001b[0m \u001b[0mslice\u001b[0m\u001b[1;33m)\u001b[0m\u001b[1;33m:\u001b[0m\u001b[1;33m\u001b[0m\u001b[0m\n\u001b[0;32m   2050\u001b[0m             \u001b[1;32mreturn\u001b[0m \u001b[0mself\u001b[0m\u001b[1;33m.\u001b[0m\u001b[0m_slice\u001b[0m\u001b[1;33m(\u001b[0m\u001b[0mslice_obj\u001b[0m\u001b[1;33m,\u001b[0m \u001b[0maxis\u001b[0m\u001b[1;33m=\u001b[0m\u001b[0maxis\u001b[0m\u001b[1;33m,\u001b[0m \u001b[0mkind\u001b[0m\u001b[1;33m=\u001b[0m\u001b[1;34m'iloc'\u001b[0m\u001b[1;33m)\u001b[0m\u001b[1;33m\u001b[0m\u001b[0m\n",
      "\u001b[1;32m~\\Anaconda3\\lib\\site-packages\\pandas\\core\\indexing.py\u001b[0m in \u001b[0;36m_convert_slice_indexer\u001b[1;34m(self, key, axis)\u001b[0m\n\u001b[0;32m    264\u001b[0m         \u001b[1;31m# if we are accessing via lowered dim, use the last dim\u001b[0m\u001b[1;33m\u001b[0m\u001b[1;33m\u001b[0m\u001b[0m\n\u001b[0;32m    265\u001b[0m         \u001b[0max\u001b[0m \u001b[1;33m=\u001b[0m \u001b[0mself\u001b[0m\u001b[1;33m.\u001b[0m\u001b[0mobj\u001b[0m\u001b[1;33m.\u001b[0m\u001b[0m_get_axis\u001b[0m\u001b[1;33m(\u001b[0m\u001b[0mmin\u001b[0m\u001b[1;33m(\u001b[0m\u001b[0maxis\u001b[0m\u001b[1;33m,\u001b[0m \u001b[0mself\u001b[0m\u001b[1;33m.\u001b[0m\u001b[0mndim\u001b[0m \u001b[1;33m-\u001b[0m \u001b[1;36m1\u001b[0m\u001b[1;33m)\u001b[0m\u001b[1;33m)\u001b[0m\u001b[1;33m\u001b[0m\u001b[0m\n\u001b[1;32m--> 266\u001b[1;33m         \u001b[1;32mreturn\u001b[0m \u001b[0max\u001b[0m\u001b[1;33m.\u001b[0m\u001b[0m_convert_slice_indexer\u001b[0m\u001b[1;33m(\u001b[0m\u001b[0mkey\u001b[0m\u001b[1;33m,\u001b[0m \u001b[0mkind\u001b[0m\u001b[1;33m=\u001b[0m\u001b[0mself\u001b[0m\u001b[1;33m.\u001b[0m\u001b[0mname\u001b[0m\u001b[1;33m)\u001b[0m\u001b[1;33m\u001b[0m\u001b[0m\n\u001b[0m\u001b[0;32m    267\u001b[0m \u001b[1;33m\u001b[0m\u001b[0m\n\u001b[0;32m    268\u001b[0m     \u001b[1;32mdef\u001b[0m \u001b[0m_has_valid_setitem_indexer\u001b[0m\u001b[1;33m(\u001b[0m\u001b[0mself\u001b[0m\u001b[1;33m,\u001b[0m \u001b[0mindexer\u001b[0m\u001b[1;33m)\u001b[0m\u001b[1;33m:\u001b[0m\u001b[1;33m\u001b[0m\u001b[0m\n",
      "\u001b[1;32m~\\Anaconda3\\lib\\site-packages\\pandas\\core\\indexes\\base.py\u001b[0m in \u001b[0;36m_convert_slice_indexer\u001b[1;34m(self, key, kind)\u001b[0m\n\u001b[0;32m   1704\u001b[0m         \u001b[1;32mif\u001b[0m \u001b[0mkind\u001b[0m \u001b[1;33m==\u001b[0m \u001b[1;34m'iloc'\u001b[0m\u001b[1;33m:\u001b[0m\u001b[1;33m\u001b[0m\u001b[0m\n\u001b[0;32m   1705\u001b[0m             return slice(self._validate_indexer('slice', key.start, kind),\n\u001b[1;32m-> 1706\u001b[1;33m                          \u001b[0mself\u001b[0m\u001b[1;33m.\u001b[0m\u001b[0m_validate_indexer\u001b[0m\u001b[1;33m(\u001b[0m\u001b[1;34m'slice'\u001b[0m\u001b[1;33m,\u001b[0m \u001b[0mkey\u001b[0m\u001b[1;33m.\u001b[0m\u001b[0mstop\u001b[0m\u001b[1;33m,\u001b[0m \u001b[0mkind\u001b[0m\u001b[1;33m)\u001b[0m\u001b[1;33m,\u001b[0m\u001b[1;33m\u001b[0m\u001b[0m\n\u001b[0m\u001b[0;32m   1707\u001b[0m                          self._validate_indexer('slice', key.step, kind))\n\u001b[0;32m   1708\u001b[0m \u001b[1;33m\u001b[0m\u001b[0m\n",
      "\u001b[1;32m~\\Anaconda3\\lib\\site-packages\\pandas\\core\\indexes\\base.py\u001b[0m in \u001b[0;36m_validate_indexer\u001b[1;34m(self, form, key, kind)\u001b[0m\n\u001b[0;32m   4143\u001b[0m             \u001b[1;32mpass\u001b[0m\u001b[1;33m\u001b[0m\u001b[0m\n\u001b[0;32m   4144\u001b[0m         \u001b[1;32melif\u001b[0m \u001b[0mkind\u001b[0m \u001b[1;32min\u001b[0m \u001b[1;33m[\u001b[0m\u001b[1;34m'iloc'\u001b[0m\u001b[1;33m,\u001b[0m \u001b[1;34m'getitem'\u001b[0m\u001b[1;33m]\u001b[0m\u001b[1;33m:\u001b[0m\u001b[1;33m\u001b[0m\u001b[0m\n\u001b[1;32m-> 4145\u001b[1;33m             \u001b[0mself\u001b[0m\u001b[1;33m.\u001b[0m\u001b[0m_invalid_indexer\u001b[0m\u001b[1;33m(\u001b[0m\u001b[0mform\u001b[0m\u001b[1;33m,\u001b[0m \u001b[0mkey\u001b[0m\u001b[1;33m)\u001b[0m\u001b[1;33m\u001b[0m\u001b[0m\n\u001b[0m\u001b[0;32m   4146\u001b[0m         \u001b[1;32mreturn\u001b[0m \u001b[0mkey\u001b[0m\u001b[1;33m\u001b[0m\u001b[0m\n\u001b[0;32m   4147\u001b[0m \u001b[1;33m\u001b[0m\u001b[0m\n",
      "\u001b[1;32m~\\Anaconda3\\lib\\site-packages\\pandas\\core\\indexes\\base.py\u001b[0m in \u001b[0;36m_invalid_indexer\u001b[1;34m(self, form, key)\u001b[0m\n\u001b[0;32m   1861\u001b[0m                         \"indexers [{key}] of {kind}\".format(\n\u001b[0;32m   1862\u001b[0m                             \u001b[0mform\u001b[0m\u001b[1;33m=\u001b[0m\u001b[0mform\u001b[0m\u001b[1;33m,\u001b[0m \u001b[0mklass\u001b[0m\u001b[1;33m=\u001b[0m\u001b[0mtype\u001b[0m\u001b[1;33m(\u001b[0m\u001b[0mself\u001b[0m\u001b[1;33m)\u001b[0m\u001b[1;33m,\u001b[0m \u001b[0mkey\u001b[0m\u001b[1;33m=\u001b[0m\u001b[0mkey\u001b[0m\u001b[1;33m,\u001b[0m\u001b[1;33m\u001b[0m\u001b[0m\n\u001b[1;32m-> 1863\u001b[1;33m                             kind=type(key)))\n\u001b[0m\u001b[0;32m   1864\u001b[0m \u001b[1;33m\u001b[0m\u001b[0m\n\u001b[0;32m   1865\u001b[0m     \u001b[1;32mdef\u001b[0m \u001b[0mget_duplicates\u001b[0m\u001b[1;33m(\u001b[0m\u001b[0mself\u001b[0m\u001b[1;33m)\u001b[0m\u001b[1;33m:\u001b[0m\u001b[1;33m\u001b[0m\u001b[0m\n",
      "\u001b[1;31mTypeError\u001b[0m: cannot do slice indexing on <class 'pandas.core.indexes.range.RangeIndex'> with these indexers [    gender   age       course  L_explain  L_avail  C_ref  L_exam  C_dept  \\\n0        M  24.0  STASTISTICS          4        4      2       3       1   \n1        M  22.0   MATHS_COMP          4        5      2       5       4   \n2        M  19.0         BBIT          4        4      2       4       2   \n3        F  18.0       MINING          4        4      5       5       3   \n4        M  19.0         BCOM          3        4      4       4       2   \n5        F  24.0          BPS          4        4      2       4       2   \n6        M  22.0          BPS          5        4      4       4       4   \n7        F  21.0  STASTISTICS          4        4      4       5       4   \n8        M  20.0   MATHS_COMP          4        5      2       1       2   \n9        F  21.0         BBIT          4        4      3       3       1   \n10       F  20.0       MINING          4        4      4       4       4   \n11       M  23.0         BCOM          1        1      2       4       1   \n12       M  22.0          BPS          1        4      3       4       5   \n13       M  22.0           IT          2        5      2       4       4   \n14       F  22.0   MATHS_COMP          4        4      2       3       4   \n15       M  21.0          BPS          4        2      2       4       2   \n16       F  21.0   MATHS_COMP          4        4      3       4       4   \n17       M  23.0         BCOM          3        2      4       4       2   \n18       F  22.0         BCOM          4        2      1       3       2   \n19       M  22.0  STASTISTICS          4        4      4       4       4   \n20       F  22.0   MATHS_COMP          4        4      2       4       2   \n21       F  22.0         BBIT          5        5      3       5       3   \n22       M  22.0       MINING          4        2      1       1       2   \n23       M  22.0         BCOM          2        2      2       3       1   \n24       M  22.0          BPS          1        3      1       5       1   \n25       F  22.0          BPS          2        1      2       4       1   \n26       M  22.0  STASTISTICS          5        4      3       4       1   \n27       F  22.0   MATHS_COMP          4        4      2       4       4   \n28       M  22.0         BBIT          4        4      4       5       2   \n29       F  22.0       MINING          1        1      1       4       1   \n..     ...   ...          ...        ...      ...    ...     ...     ...   \n718      M  23.0   MATHS_COMP          4        5      4       5       4   \n719      M  23.0          BPS          4        4      5       5       3   \n720      M  23.0   MATHS_COMP          5        5      4       4       5   \n721      F  23.0         BCOM          3        5      4       5       4   \n722      M  23.0         BCOM          5        4      4       5       4   \n723      F  23.0  STASTISTICS          5        5      5       5       4   \n724      M  23.0   MATHS_COMP          4        4      4       4       4   \n725      F  23.0         BBIT          4        5      4       4       4   \n726      M  23.0       MINING          4        4      4       4       5   \n727      F  23.0         BCOM          4        4      4       4       3   \n728      F  23.0          BPS          4        5      5       4       4   \n729      M  23.0          BPS          4        5      5       4       4   \n730      M  23.0  STASTISTICS          5        3      4       5       4   \n731      M  23.0   MATHS_COMP          4        4      4       4       4   \n732      F  23.0         BBIT          3        4      4       5       5   \n733      M  23.0       MINING          2        4      4       4       4   \n734      F  23.0         BCOM          3        5      5       4       4   \n735      M  23.0          BPS          4        5      4       5       4   \n736      F  23.0           IT          5        5      5       5       4   \n737      M  23.0   MATHS_COMP          5        4      3       3       3   \n738      F  23.0          BPS          5        4      4       3       4   \n739      F  23.0   MATHS_COMP          2        4      5       3       4   \n740      M  23.0         BCOM          3        4      4       5       4   \n741      M  23.0         BCOM          2        4      3       4       4   \n742      M  24.0  STASTISTICS          5        5      5       5       5   \n743      F  24.0   MATHS_COMP          4        3      4       4       3   \n744      M  24.0         BBIT          5        5      5       5       5   \n745      F  24.0       MINING          5        5      5       5       5   \n746      M  24.0         BCOM          4        4      4       4       4   \n747      F  24.0          BPS          5        4      5       4       5   \n\n     C_incorporated  T_net  I_interclass  I_inquire  I_consult  L_covers  \\\n0                 2      4             3          4          2         4   \n1                 1      1             5          5          5         5   \n2                 2      2             4          4          4         4   \n3                 1      2             4          1          4         5   \n4                 1      1             4          4          4         3   \n5                 4      2             4          4          1         4   \n6                 2      4             4          4          2         4   \n7                 3      3             4          4          4         5   \n8                 2      3             4          4          5         5   \n9                 3      1             4          4          3         3   \n10                2      2             4          4          4         4   \n11                4      4             4          4          4         4   \n12                5      4             4          4          4         5   \n13                3      2             4          4          5         2   \n14                3      2             3          4          3         5   \n15                2      2             4          4          2         4   \n16                5      1             4          3          5         3   \n17                3      4             2          4          5         4   \n18                2      1             4          4          3         4   \n19                4      3             4          4          3         4   \n20                1      1             4          2          2         2   \n21                3      4             5          5          4         5   \n22                4      2             4          4          4         4   \n23                4      3             3          2          4         2   \n24                1      1             4          1          3         5   \n25                1      1             4          1          1         4   \n26                5      5             5          4          2         5   \n27                4      4             4          4          4         4   \n28                2      4             4          3          4         5   \n29                2      5             5          4          1         4   \n..              ...    ...           ...        ...        ...       ...   \n718               4      5             4          4          5         5   \n719               4      4             4          4          4         4   \n720               4      4             4          4          5         5   \n721               5      5             4          4          5         4   \n722               4      5             4          5          5         4   \n723               5      4             4          5          5         4   \n724               4      4             4          4          4         4   \n725               5      5             4          3          5         5   \n726               4      5             4          4          4         4   \n727               4      4             4          4          4         4   \n728               4      5             4          4          5         5   \n729               5      5             4          4          5         4   \n730               4      4             4          4          4         4   \n731               4      5             4          4          4         4   \n732               5      5             5          5          5         5   \n733               5      5             4          4          4         4   \n734               4      4             5          4          4         5   \n735               5      5             5          5          5         5   \n736               5      5             5          5          5         5   \n737               4      5             3          2          4         4   \n738               5      5             4          4          4         4   \n739               4      3             3          4          4         5   \n740               4      5             4          4          5         4   \n741               4      5             5          3          4         4   \n742               5      5             5          4          5         5   \n743               4      4             4          3          4         3   \n744               5      5             5          5          5         5   \n745               5      5             5          5          5         5   \n746               4      4             4          4          4         4   \n747               4      5             4          4          4         5   \n\n     T_comp SATISFIED  \n0         1       YES  \n1         2       YES  \n2         3       YES  \n3         5       YES  \n4         2        NO  \n5         1       YES  \n6         4       YES  \n7         3       YES  \n8         1       YES  \n9         3       YES  \n10        2       YES  \n11        2        NO  \n12        4       YES  \n13        4       YES  \n14        2       YES  \n15        2       YES  \n16        2       YES  \n17        3       YES  \n18        2        NO  \n19        4       YES  \n20        1       YES  \n21        4       YES  \n22        3        NO  \n23        2        NO  \n24        1        NO  \n25        1        NO  \n26        4        NO  \n27        2       YES  \n28        4       YES  \n29        1        NO  \n..      ...       ...  \n718       5       YES  \n719       4       YES  \n720       4       YES  \n721       4       YES  \n722       5       YES  \n723       4       YES  \n724       4       YES  \n725       5       YES  \n726       5       YES  \n727       4       YES  \n728       4       YES  \n729       4       YES  \n730       4       YES  \n731       5       YES  \n732       5       YES  \n733       4       YES  \n734       4       YES  \n735       5       YES  \n736       4       YES  \n737       3       YES  \n738       4       YES  \n739       4       YES  \n740       4       YES  \n741       4       YES  \n742       4       YES  \n743       4       YES  \n744       5       YES  \n745       5       YES  \n746       4       YES  \n747       4       YES  \n\n[748 rows x 16 columns]] of <class 'pandas.core.frame.DataFrame'>"
     ]
    }
   ],
   "source": [
    "data.head(X)"
   ]
  },
  {
   "cell_type": "code",
   "execution_count": null,
   "metadata": {},
   "outputs": [],
   "source": [
    "head(y)"
   ]
  },
  {
   "cell_type": "code",
   "execution_count": 44,
   "metadata": {},
   "outputs": [
    {
     "ename": "ModuleNotFoundError",
     "evalue": "No module named 'imblearn'",
     "output_type": "error",
     "traceback": [
      "\u001b[1;31m---------------------------------------------------------------------------\u001b[0m",
      "\u001b[1;31mModuleNotFoundError\u001b[0m                       Traceback (most recent call last)",
      "\u001b[1;32m<ipython-input-44-c1279e5c5b38>\u001b[0m in \u001b[0;36m<module>\u001b[1;34m()\u001b[0m\n\u001b[0;32m      1\u001b[0m \u001b[1;33m\u001b[0m\u001b[0m\n\u001b[1;32m----> 2\u001b[1;33m \u001b[1;32mfrom\u001b[0m \u001b[0mimblearn\u001b[0m\u001b[1;33m.\u001b[0m\u001b[0mover_sampling\u001b[0m \u001b[1;32mimport\u001b[0m \u001b[0mSMOTE\u001b[0m\u001b[1;33m\u001b[0m\u001b[0m\n\u001b[0m\u001b[0;32m      3\u001b[0m \u001b[1;33m\u001b[0m\u001b[0m\n\u001b[0;32m      4\u001b[0m \u001b[0mos\u001b[0m \u001b[1;33m=\u001b[0m \u001b[0mSMOTE\u001b[0m\u001b[1;33m(\u001b[0m\u001b[0mrandom_state\u001b[0m\u001b[1;33m=\u001b[0m\u001b[1;36m0\u001b[0m\u001b[1;33m)\u001b[0m\u001b[1;33m\u001b[0m\u001b[0m\n\u001b[0;32m      5\u001b[0m \u001b[0mX_train\u001b[0m\u001b[1;33m,\u001b[0m \u001b[0mX_test\u001b[0m\u001b[1;33m,\u001b[0m \u001b[0my_train\u001b[0m\u001b[1;33m,\u001b[0m \u001b[0my_test\u001b[0m \u001b[1;33m=\u001b[0m \u001b[0mtrain_test_split\u001b[0m\u001b[1;33m(\u001b[0m\u001b[0mX\u001b[0m\u001b[1;33m,\u001b[0m \u001b[0my\u001b[0m\u001b[1;33m,\u001b[0m \u001b[0mtest_size\u001b[0m\u001b[1;33m=\u001b[0m\u001b[1;36m0.3\u001b[0m\u001b[1;33m,\u001b[0m \u001b[0mrandom_state\u001b[0m\u001b[1;33m=\u001b[0m\u001b[1;36m0\u001b[0m\u001b[1;33m)\u001b[0m\u001b[1;33m\u001b[0m\u001b[0m\n",
      "\u001b[1;31mModuleNotFoundError\u001b[0m: No module named 'imblearn'"
     ]
    }
   ],
   "source": [
    "\n",
    "from imblearn.over_sampling import SMOTE\n",
    "\n",
    "os = SMOTE(random_state=0)\n",
    "X_train, X_test, y_train, y_test = train_test_split(X, y, test_size=0.3, random_state=0)\n",
    "columns = X_train.columns\n",
    "\n",
    "os_data_X,os_data_y=os.fit_sample(X_train, y_train)\n",
    "os_data_X = pd.DataFrame(data=os_data_X,columns=columns )\n",
    "os_data_y= pd.DataFrame(data=os_data_y,columns=['y'])\n",
    "# we can Check the numbers of our data\n",
    "\n",
    "print(\"length of oversampled data is \",len(os_data_X))\n",
    "print(\"Number of no subscription in oversampled data\",len(os_data_y[os_data_y['SATISFIED']==0]))\n",
    "print(\"Number of subscription\",len(os_data_y[os_data_y['SATISFIED']==1]))\n",
    "print(\"Proportion of no subscription data in oversampled data is \",len(os_data_y[os_data_y['SATISFIED']==0])/len(os_data_X))\n",
    "print(\"Proportion of subscription data in oversampled data is \",len(os_data_y[os_data_y['SATISFIED']==1])/len(os_data_X))\n",
    "\n"
   ]
  },
  {
   "cell_type": "code",
   "execution_count": null,
   "metadata": {},
   "outputs": [],
   "source": [
    "#Recursive Feature Elimination\n",
    "\n",
    "#Recursive Feature Elimination (RFE) is based on the idea to repeatedly construct a model and choose either the best or worst performing feature, setting the feature aside and then repeating the process with the rest of the features. This process is applied until all features in the dataset are exhausted. The goal of RFE is to select features by recursively considering smaller and smaller sets of features.\n",
    "\n",
    "data_final_vars=data_final.columns.values.tolist()\n",
    "y=['y']\n",
    "X=[i for i in data_final_vars if i not in y]\n",
    "\n",
    "from sklearn.feature_selection import RFE\n",
    "from sklearn.linear_model import LogisticRegression\n",
    "\n",
    "logreg = LogisticRegression()\n",
    "\n",
    "rfe = RFE(logreg, 20)\n",
    "rfe = rfe.fit(os_data_X, os_data_y.values.ravel())\n",
    "print(rfe.support_)\n",
    "print(rfe.ranking_)\n",
    "\n",
    "\n",
    "cols=['euribor3m', 'job_blue-collar', 'job_housemaid', 'marital_unknown', 'education_illiterate', 'default_no', 'default_unknown', \n",
    "      'contact_cellular', 'contact_telephone', 'month_apr', 'month_aug', 'month_dec', 'month_jul', 'month_jun', 'month_mar', \n",
    "      'month_may', 'month_nov', 'month_oct', \"poutcome_failure\", \"poutcome_success\"] \n",
    "X=os_data_X[cols]\n",
    "y=os_data_y['y']\n"
   ]
  },
  {
   "cell_type": "code",
   "execution_count": null,
   "metadata": {},
   "outputs": [],
   "source": [
    "#Implementing the model\n",
    "\n",
    "import statsmodels.api as sm\n",
    "logit_model=sm.Logit(y,X)\n",
    "result=logit_model.fit()\n",
    "print(result.summary2())"
   ]
  },
  {
   "cell_type": "code",
   "execution_count": null,
   "metadata": {},
   "outputs": [],
   "source": [
    "cols=['euribor3m', 'job_blue-collar', 'job_housemaid', 'marital_unknown', 'education_illiterate', \n",
    "      'month_apr', 'month_aug', 'month_dec', 'month_jul', 'month_jun', 'month_mar', \n",
    "      'month_may', 'month_nov', 'month_oct', \"poutcome_failure\", \"poutcome_success\"] \n",
    "X=os_data_X[cols]\n",
    "y=os_data_y['y']\n",
    "\n",
    "logit_model=sm.Logit(y,X)\n",
    "result=logit_model.fit()\n",
    "print(result.summary2())\n",
    "\n"
   ]
  },
  {
   "cell_type": "code",
   "execution_count": null,
   "metadata": {},
   "outputs": [],
   "source": [
    "#Logistic Regression Model Fitting\n",
    "\n",
    "from sklearn.linear_model import LogisticRegression\n",
    "from sklearn import metrics\n",
    "\n",
    "X_train, X_test, y_train, y_test = train_test_split(X, y, test_size=0.3, random_state=0)\n",
    "logreg = LogisticRegression()\n",
    "logreg.fit(X_train, y_train)\n",
    "\n"
   ]
  },
  {
   "cell_type": "code",
   "execution_count": null,
   "metadata": {},
   "outputs": [],
   "source": [
    "#Predicting the test set results and calculating the accuracy\n",
    "\n",
    "y_pred = logreg.predict(X_test)\n",
    "print('Accuracy of logistic regression classifier on test set: {:.2f}'.format(logreg.score(X_test, y_test)))\n",
    "\n"
   ]
  },
  {
   "cell_type": "code",
   "execution_count": null,
   "metadata": {},
   "outputs": [],
   "source": [
    "#Confusion Matrix\n",
    "\n",
    "from sklearn.metrics import confusion_matrix\n",
    "confusion_matrix = confusion_matrix(y_test, y_pred)\n",
    "print(confusion_matrix)\n",
    "\n"
   ]
  },
  {
   "cell_type": "code",
   "execution_count": null,
   "metadata": {},
   "outputs": [],
   "source": [
    "# Compute precision, recall, F-measure and support\n",
    "\n",
    "# To quote from Scikit Learn:\n",
    "\n",
    "# The precision is the ratio tp / (tp + fp) where tp is the number of true positives and fp the number of false positives. The precision is intuitively the ability of the classifier to not label a sample as positive if it is negative.\n",
    "\n",
    "# The recall is the ratio tp / (tp + fn) where tp is the number of true positives and fn the number of false negatives. The recall is intuitively the ability of the classifier to find all the positive samples.\n",
    "\n",
    "# The F-beta score can be interpreted as a weighted harmonic mean of the precision and recall, where an F-beta score reaches its best value at 1 and worst score at 0.\n",
    "\n",
    "# The F-beta score weights the recall more than the precision by a factor of beta. beta = 1.0 means recall and precision are equally important.\n",
    "\n",
    "# The support is the number of occurrences of each class in y_test.\n",
    "\n",
    "from sklearn.metrics import classification_report\n",
    "\n",
    "print(classification_report(y_test, y_pred))\n",
    "\n",
    "\n",
    "# Interpretation: Of the entire test set, 74% of the promoted term deposit were the term deposit that the customers l\n",
    "#iked. Of the entire test set, 74% of the customer’s preferred term deposits that were promoted.\n",
    "\n"
   ]
  },
  {
   "cell_type": "code",
   "execution_count": null,
   "metadata": {},
   "outputs": [],
   "source": [
    "\n",
    "\n",
    "# ROC Curve\n",
    "from sklearn.metrics import roc_auc_score\n",
    "from sklearn.metrics import roc_curve\n",
    "logit_roc_auc = roc_auc_score(y_test, logreg.predict(X_test))\n",
    "fpr, tpr, thresholds = roc_curve(y_test, logreg.predict_proba(X_test)[:,1])\n",
    "plt.figure()\n",
    "plt.plot(fpr, tpr, label='Logistic Regression (area = %0.2f)' % logit_roc_auc)\n",
    "plt.plot([0, 1], [0, 1],'r--')\n",
    "plt.xlim([0.0, 1.0])\n",
    "plt.ylim([0.0, 1.05])\n",
    "plt.xlabel('False Positive Rate')\n",
    "plt.ylabel('True Positive Rate')\n",
    "plt.title('Receiver operating characteristic')\n",
    "plt.legend(loc=\"lower right\")\n",
    "plt.savefig('Log_ROC')\n",
    "\n",
    "plt.show()\n",
    "\n"
   ]
  }
 ],
 "metadata": {
  "kernelspec": {
   "display_name": "Python 3",
   "language": "python",
   "name": "python3"
  },
  "language_info": {
   "codemirror_mode": {
    "name": "ipython",
    "version": 3
   },
   "file_extension": ".py",
   "mimetype": "text/x-python",
   "name": "python",
   "nbconvert_exporter": "python",
   "pygments_lexer": "ipython3",
   "version": "3.7.0"
  }
 },
 "nbformat": 4,
 "nbformat_minor": 2
}
